{
 "cells": [
  {
   "cell_type": "code",
   "execution_count": 2,
   "metadata": {},
   "outputs": [],
   "source": [
    "from qiskit import QuantumRegister, ClassicalRegister, QuantumCircuit\n",
    "from qiskit import IBMQ, Aer, execute\n",
    "from qiskit.tools.visualization import plot_histogram"
   ]
  },
  {
   "cell_type": "code",
   "execution_count": 34,
   "metadata": {},
   "outputs": [],
   "source": [
    "## distance_black_box\n",
    "\n",
    "distances = {\n",
    "    \"32\": 3,\n",
    "    \"31\": 2,\n",
    "    \"30\": 4,\n",
    "    \"21\": 7,\n",
    "    \"20\": 6,\n",
    "    \"10\": 5,\n",
    "}\n",
    "\n",
    "def dist_single():\n",
    "    qr = QuantumRegister(2)\n",
    "    qr_target = QuantumRegister(5)\n",
    "    qc = QuantumCircuit(qr, qr_target, name='dist_single')\n",
    "    \n",
    "    for edge in distances:\n",
    "        if edge[0] == '3':\n",
    "            node = format(int(edge[1]), '02b')[::-1]\n",
    "            d_bin = format(distances[edge], '02b')[::-1]\n",
    "            \n",
    "            for idx in range(len(node)):\n",
    "                if node[idx] == '0':\n",
    "                    qc.x(qr[idx])\n",
    "            \n",
    "            for idx in range(len(d_bin)):\n",
    "                if d_bin[idx] == '1':\n",
    "                    qc.ccx(qr[0], qr[1], qr_target[idx])\n",
    "            \n",
    "            for idx in range(len(node)):\n",
    "                if node[idx] == '0':\n",
    "                    qc.x(qr[idx])\n",
    "    \n",
    "    return qc\n",
    "\n",
    "def dist():\n",
    "    qr1 = QuantumRegister(2)\n",
    "    qr2 = QuantumRegister(2)\n",
    "    qr_target = QuantumRegister(5)\n",
    "    qr_anc = QuantumRegister(2)\n",
    "    qc = QuantumCircuit(qr1, qr2, qr_target, qr_anc, name='dist')\n",
    "    \n",
    "    for edge in distances:\n",
    "        if edge[0] != '3':\n",
    "            # convert to binaries\n",
    "            node1 = format(int(edge[0]), '02b')[::-1]\n",
    "            node2 = format(int(edge[1]), '02b')[::-1]\n",
    "            d_bin = format(distances[edge], '02b')[::-1]\n",
    "\n",
    "            for idx in range(len(node1)): # assume node1 and node2 have the same length\n",
    "                if node1[idx] == '0':\n",
    "                    qc.x(qr1[idx])\n",
    "                    \n",
    "            for idx in range(len(node2)):\n",
    "                if node2[idx] == '0':\n",
    "                    qc.x(qr2[idx])\n",
    "\n",
    "            for idx in range(len(d_bin)):\n",
    "                if d_bin[idx] == '1':\n",
    "                    qc.mct(qr1[:]+qr2[:], qr_target[idx], qr_anc)\n",
    "                    \n",
    "            for idx in range(len(node2)): # invert back\n",
    "                if node2[idx] == '0':\n",
    "                    qc.x(qr2[idx])\n",
    "\n",
    "            for idx in range(len(node1)):\n",
    "                if node1[idx] == '0':\n",
    "                    qc.x(qr1[idx])\n",
    "                    \n",
    "    return qc"
   ]
  },
  {
   "cell_type": "code",
   "execution_count": 40,
   "metadata": {},
   "outputs": [
    {
     "data": {
      "image/png": "[encoded data removed]",
      "text/plain": [
       "<Figure size 504x360 with 1 Axes>"
      ]
     },
     "execution_count": 40,
     "metadata": {},
     "output_type": "execute_result"
    }
   ],
   "source": [
    "qr1 = QuantumRegister(2) # node reg.\n",
    "qr2 = QuantumRegister(2) # node reg.\n",
    "qr_target = QuantumRegister(5) # distance reg.\n",
    "qr_anc = QuantumRegister(2)\n",
    "c = ClassicalRegister(5)\n",
    "qc = QuantumCircuit(qr1, qr2, qr_target, qr_anc, c)\n",
    "\n",
    "qc.x(qr1[0])\n",
    "# qc.x(qr2[0])\n",
    "qc.append(dist(), qr1[:] + qr2[:] + qr_target[:] + qr_anc[:])\n",
    "qc.measure(qr_target, c)\n",
    "\n",
    "# qc.draw(output='mpl')\n",
    "\n",
    "backend = Aer.get_backend('qasm_simulator')\n",
    "job = execute(qc, backend, shots=1024)\n",
    "counts = job.result().get_counts()\n",
    "\n",
    "plot_histogram(counts)"
   ]
  },
  {
   "cell_type": "code",
   "execution_count": 32,
   "metadata": {},
   "outputs": [
    {
     "data": {
      "text/plain": [
       "'01'"
      ]
     },
     "execution_count": 32,
     "metadata": {},
     "output_type": "execute_result"
    }
   ],
   "source": [
    "format(1, '02b')"
   ]
  }
 ],
 "metadata": {
  "kernelspec": {
   "display_name": "Python 3",
   "language": "python",
   "name": "python3"
  },
  "language_info": {
   "codemirror_mode": {
    "name": "ipython",
    "version": 3
   },
   "file_extension": ".py",
   "mimetype": "text/x-python",
   "name": "python",
   "nbconvert_exporter": "python",
   "pygments_lexer": "ipython3",
   "version": "3.7.3"
  }
 },
 "nbformat": 4,
 "nbformat_minor": 2
}
