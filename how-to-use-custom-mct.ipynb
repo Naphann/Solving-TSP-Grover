{
 "cells": [
  {
   "cell_type": "code",
   "execution_count": 1,
   "metadata": {},
   "outputs": [],
   "source": [
    "import qiskit\n",
    "from qiskit import QuantumCircuit, QuantumRegister, ClassicalRegister\n",
    "from qiskit import Aer\n",
    "\n",
    "import numpy as np\n",
    "from math import floor, ceil\n",
    "\n",
    "%matplotlib inline"
   ]
  },
  {
   "cell_type": "code",
   "execution_count": 2,
   "metadata": {},
   "outputs": [],
   "source": [
    "import gate_extensions"
   ]
  },
  {
   "cell_type": "code",
   "execution_count": 4,
   "metadata": {},
   "outputs": [
    {
     "name": "stdout",
     "output_type": "stream",
     "text": [
      "5-bit controls\n",
      "31 got 1\n",
      "6-bit controls\n",
      "63 got 1\n"
     ]
    }
   ],
   "source": [
    "for n in range(5, 7):\n",
    "    print('{}-bit controls'.format(n))\n",
    "    for inp in range(2**n):\n",
    "        qr = QuantumRegister(n, 'qr')\n",
    "        anc = QuantumRegister(max(ceil((n-2)/2), 1), 'anc')\n",
    "        target = QuantumRegister(1)\n",
    "        cr = ClassicalRegister(1, 'cr')\n",
    "        qc = QuantumCircuit(qr, anc, target, cr)\n",
    "        \n",
    "        for i in range(n):\n",
    "            if (inp & (1<<i)) > 0:\n",
    "                qc.x(qr[i])\n",
    "        \n",
    "        qc.mct(qr, target, anc, mode='clean-ancilla')\n",
    "        qc.barrier()\n",
    "        qc.measure(target, cr[0])\n",
    "        \n",
    "        backend = Aer.get_backend('qasm_simulator')\n",
    "        job = qiskit.execute(qc, backend, shots=10)\n",
    "        result = job.result()\n",
    "        counts = result.get_counts()\n",
    "#         print(inp)\n",
    "        if '1' in counts:\n",
    "            print('{} got 1'.format(inp))"
   ]
  },
  {
   "cell_type": "code",
   "execution_count": null,
   "metadata": {},
   "outputs": [],
   "source": []
  }
 ],
 "metadata": {
  "kernelspec": {
   "display_name": "Python 3",
   "language": "python",
   "name": "python3"
  },
  "language_info": {
   "codemirror_mode": {
    "name": "ipython",
    "version": 3
   },
   "file_extension": ".py",
   "mimetype": "text/x-python",
   "name": "python",
   "nbconvert_exporter": "python",
   "pygments_lexer": "ipython3",
   "version": "3.7.3"
  }
 },
 "nbformat": 4,
 "nbformat_minor": 2
}
