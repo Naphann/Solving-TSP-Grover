{
 "cells": [
  {
   "cell_type": "code",
   "execution_count": 31,
   "metadata": {},
   "outputs": [],
   "source": [
    "import qiskit\n",
    "from qiskit import QuantumCircuit, QuantumRegister, ClassicalRegister\n",
    "from qiskit import Aer\n",
    "\n",
    "import numpy as np\n",
    "from math import floor, ceil\n",
    "\n",
    "%matplotlib inline"
   ]
  },
  {
   "cell_type": "code",
   "execution_count": 34,
   "metadata": {},
   "outputs": [],
   "source": [
    "def max_number(arr_size):\n",
    "    return (2 ** arr_size)-1\n",
    "\n",
    "def check_min_circuit(a, threshold):\n",
    "    max = max_number(a)\n",
    "    foo = max - threshold\n",
    "    binary = format(foo, 'b')[::-1]\n",
    "    print(binary)\n",
    "    extra = a - len(binary)\n",
    "    for i in range(extra):\n",
    "            binary = \"0\" + binary\n",
    "    print(binary)\n",
    "    for i in range(a):\n",
    "        if int(binary[i])==1:\n",
    "            qc1.x(_q[i])"
   ]
  },
  {
   "cell_type": "code",
   "execution_count": 36,
   "metadata": {},
   "outputs": [
    {
     "name": "stdout",
     "output_type": "stream",
     "text": [
      "1101\n",
      "01101\n"
     ]
    },
    {
     "data": {
      "text/html": [
       "<pre style=\"word-wrap: normal;white-space: pre;background: #fff0;line-height: 1.1;font-family: &quot;Courier New&quot;,Courier,monospace\">              \n",
       "q6_0: |0>─────\n",
       "         ┌───┐\n",
       "q6_1: |0>┤ X ├\n",
       "         ├───┤\n",
       "q6_2: |0>┤ X ├\n",
       "         └───┘\n",
       "q6_3: |0>─────\n",
       "         ┌───┐\n",
       "q6_4: |0>┤ X ├\n",
       "         └───┘</pre>"
      ],
      "text/plain": [
       "<qiskit.visualization.text.TextDrawing at 0x1a2c439400>"
      ]
     },
     "execution_count": 36,
     "metadata": {},
     "output_type": "execute_result"
    }
   ],
   "source": [
    "_q = QuantumRegister(5)\n",
    "qc1 = QuantumCircuit(_q)\n",
    "check_min_circuit(5, 20)\n",
    "qc1.draw()"
   ]
  },
  {
   "cell_type": "code",
   "execution_count": null,
   "metadata": {},
   "outputs": [],
   "source": []
  }
 ],
 "metadata": {
  "kernelspec": {
   "display_name": "Python 3",
   "language": "python",
   "name": "python3"
  },
  "language_info": {
   "codemirror_mode": {
    "name": "ipython",
    "version": 3
   },
   "file_extension": ".py",
   "mimetype": "text/x-python",
   "name": "python",
   "nbconvert_exporter": "python",
   "pygments_lexer": "ipython3",
   "version": "3.7.3"
  }
 },
 "nbformat": 4,
 "nbformat_minor": 2
}
