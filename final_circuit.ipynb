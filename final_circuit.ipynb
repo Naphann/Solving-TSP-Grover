{
 "cells": [
  {
   "cell_type": "code",
   "execution_count": 1,
   "metadata": {},
   "outputs": [],
   "source": [
    "from qiskit import QuantumRegister, ClassicalRegister, QuantumCircuit\n",
    "from qiskit import IBMQ, Aer, execute\n",
    "from qiskit.tools.visualization import plot_histogram"
   ]
  },
  {
   "cell_type": "code",
   "execution_count": 2,
   "metadata": {},
   "outputs": [],
   "source": [
    "## oracle_initialize_part\n",
    "\n",
    "def OR(qubit_1, qubit_2, k):\n",
    "    # enter qubit numbers here \n",
    "    \"\"\" function does the equivalent of a classical OR between qubit numbers a and b and stores the result in qubit number k \"\"\"\n",
    "#     qc.barrier(q)\n",
    "    qc.x(q[qubit_1])\n",
    "    qc.x(q[qubit_2])\n",
    "#     qc.barrier(q)\n",
    "    qc.ccx(q[qubit_1], q[qubit_2], q[k])\n",
    "    qc.x(q[k])\n",
    "#     qc.barrier(q)\n",
    "    qc.x(q[qubit_1])\n",
    "    qc.x(q[qubit_2])\n",
    "#     qc.barrier(q)\n",
    "    \n",
    "\n",
    "def are_not_equal(a_0, b_0, k):\n",
    "    # enter node numbers here. For example, a is node 0, b is node 1 and c is node 2\n",
    "    \"\"\" function outputs 1 if nodes a and b are not the same. Node numbering starts from 0\n",
    "        as in the problem statement. k is the qubit number where the output is XOR-ed. qubit\n",
    "        numbering also starts from 0 \"\"\"\n",
    "#     qc.barrier(q)\n",
    "    qc.cx(q[2*a_0], q[2*b_0])\n",
    "    qc.cx(q[(2*a_0) + 1], q[(2*b_0) + 1])\n",
    "    OR(2*b_0, (2*b_0)+1, k)\n",
    "    qc.cx(q[2*a_0], q[2*b_0])\n",
    "    qc.cx(q[(2*a_0) + 1], q[(2*b_0) + 1])\n",
    "#     qc.barrier(q)\n",
    "\n",
    "def is_not_3(a, k):\n",
    "    qc.ccx(q[2*a], q[(2*a)+1], q[k])\n",
    "    qc.x(q[k])\n",
    "    \n",
    "def initialize_oracle_part(n):\n",
    "    t = 4\n",
    "#     qc.barrier(q)\n",
    "    are_not_equal(0, 1, 6) # node a and b are not equal \n",
    "    are_not_equal(0, 2, 7)\n",
    "    are_not_equal(1, 2, 8)\n",
    "    is_not_3(0, 11)\n",
    "    is_not_3(1, 12)\n",
    "    is_not_3(2, 13)\n",
    "#     qc.barrier(q)\n",
    "    qc.mct([q[6], q[7], q[8], q[11], q[12], q[13]], q[10],[q[9], q[14], q[15], q[16]]) # answer is stored in 10. please keep 9 a clean qubit, it's used as ancilla here \n",
    "#     qc.barrier(q)\n",
    "    is_not_3(0, 11)\n",
    "    is_not_3(1, 12)\n",
    "    is_not_3(2, 13)\n",
    "    are_not_equal(0, 1, 6) # node a and b are not equal \n",
    "    are_not_equal(0, 2, 7)\n",
    "    are_not_equal(1, 2, 8)"
   ]
  },
  {
   "cell_type": "code",
   "execution_count": 3,
   "metadata": {},
   "outputs": [],
   "source": [
    "## distance_black_box\n",
    "\n",
    "distances = {\n",
    "    \"32\": 3,\n",
    "    \"31\": 2,\n",
    "    \"30\": 4,\n",
    "    \"21\": 7,\n",
    "    \"20\": 6,\n",
    "    \"10\": 5,\n",
    "}\n",
    "\n",
    "def dist_single():\n",
    "    qr = QuantumRegister(2)\n",
    "    qr_target = QuantumRegister(5)\n",
    "    qc = QuantumCircuit(qr, qr_target, name='dist_single')\n",
    "    \n",
    "    for edge in distances:\n",
    "        if edge[0] == '3':\n",
    "            node = format(int(edge[1]), '02b')\n",
    "            d_bin = format(distances[edge], '02b')\n",
    "            \n",
    "            for idx in range(len(node)):\n",
    "                if node[idx] == '0':\n",
    "                    qc.x(qr[idx])\n",
    "            \n",
    "            for idx in range(len(d_bin)):\n",
    "                if d_bin[idx] == '1':\n",
    "                    qc.ccx(qr[0], qr[1], qr_target[idx])\n",
    "            \n",
    "            for idx in range(len(node)):\n",
    "                if node[idx] == '0':\n",
    "                    qc.x(qr[idx])\n",
    "    \n",
    "    return qc\n",
    "\n",
    "def dist():\n",
    "    qr1 = QuantumRegister(2)\n",
    "    qr2 = QuantumRegister(2)\n",
    "    qr_target = QuantumRegister(5)\n",
    "    qr_anc = QuantumRegister(2)\n",
    "    qc = QuantumCircuit(qr1, qr2, qr_target, qr_anc, name='dist')\n",
    "    \n",
    "    for edge in distances:\n",
    "        if edge[0] != '3':\n",
    "            # convert to binaries\n",
    "            node1 = format(int(edge[0]), '02b')\n",
    "            node2 = format(int(edge[1]), '02b')\n",
    "            d_bin = format(distances[edge], '02b')\n",
    "\n",
    "            for idx in range(len(node1)): # assume node1 and node2 have the same length\n",
    "                if node1[idx] == '0':\n",
    "                    qc.x(qr1[idx])\n",
    "                    \n",
    "            for idx in range(len(node2)):\n",
    "                if node2[idx] == '0':\n",
    "                    qc.x(qr2[idx])\n",
    "\n",
    "            for idx in range(len(d_bin)):\n",
    "                if d_bin[idx] == '1':\n",
    "                    qc.mct(qr1[:]+qr2[:], qr_target[idx], qr_anc)\n",
    "                    \n",
    "            for idx in range(len(node2)): # invert back\n",
    "                if node2[idx] == '0':\n",
    "                    qc.x(qr2[idx])\n",
    "\n",
    "            for idx in range(len(node1)):\n",
    "                if node1[idx] == '0':\n",
    "                    qc.x(qr1[idx])\n",
    "                \n",
    "    return qc"
   ]
  },
  {
   "cell_type": "code",
   "execution_count": 4,
   "metadata": {},
   "outputs": [],
   "source": [
    "## multi_adder_1\n",
    "\n",
    "def maj(a, b, k):\n",
    "    qc.cx(q[k], q[b])\n",
    "    qc.cx(q[k], q[a])\n",
    "    qc.ccx(q[a], q[b], q[k])\n",
    "    \n",
    "def unmaj(a, b, k):\n",
    "    qc.ccx(q[a], q[b], q[k])\n",
    "    qc.cx(q[k], q[a])\n",
    "    qc.cx(q[a], q[b])\n",
    "    \n",
    "def multiple_adder(a, b, c_0, z):\n",
    "    arr_size = len(a)\n",
    "    maj(c_0, b[0], a[0])\n",
    "    for i in range(arr_size-1):\n",
    "        maj(a[i], b[i+1], a[i+1])\n",
    "    qc.cx(q[a[arr_size-1]], q[z])\n",
    "    for i in reversed(range(arr_size-1)):\n",
    "        unmaj(a[i], b[i+1], a[i+1])\n",
    "    unmaj(c_0, b[0], a[0])"
   ]
  },
  {
   "cell_type": "code",
   "execution_count": 5,
   "metadata": {},
   "outputs": [],
   "source": [
    "## diffusion\n",
    "def diffusion():\n",
    "    qc.h(q[0:6])\n",
    "    qc.x(q[0:6])\n",
    "    qc.h(q[5])\n",
    "    qc.barrier()\n",
    "    qc.mct(q[0:5], q[5], q[7:10])\n",
    "    qc.barrier()\n",
    "    qc.h(q[5])\n",
    "    qc.x(q[0:6])\n",
    "    qc.h(q[0:6])"
   ]
  },
  {
   "cell_type": "code",
   "execution_count": 11,
   "metadata": {},
   "outputs": [
    {
     "data": {
      "text/plain": [
       "<qiskit.circuit.instructionset.InstructionSet at 0x11feb7b50>"
      ]
     },
     "execution_count": 11,
     "metadata": {},
     "output_type": "execute_result"
    }
   ],
   "source": [
    "qubit_num = 25  # max is 32 if you're using the simulator\n",
    "\n",
    "# Ancilla indices\n",
    "inputs = [0, 1, 2, 3, 4, 5]\n",
    "init_ancillae = [6, 7, 8, 9]\n",
    "valid = [10]\n",
    "temp_dist = [11, 12, 13, 14, 15]\n",
    "total_dist = [16, 17, 18, 19, 20]\n",
    "gate_ancillae = [21, 22, 23]\n",
    "check_dist = [11, 12, 13, 14, 15] # initialize 13 here\n",
    "carry_check = [24]\n",
    "\n",
    "inputs = inputs[0]\n",
    "init_ancillae = init_ancillae[0]\n",
    "valid = valid[0]\n",
    "temp_dist = temp_dist[0]\n",
    "total_dist = total_dist[0]\n",
    "gate_ancillae = gate_ancillae[0]\n",
    "check_dist = check_dist[0]\n",
    "carry_check = carry_check[0]\n",
    "\n",
    "q = QuantumRegister(qubit_num)\n",
    "c = ClassicalRegister(6)\n",
    "qc = QuantumCircuit(q, c)\n",
    "\n",
    "qc.h(q[0:6])\n",
    "qc.x(q[carry_check])\n",
    "\n",
    "# forward oracle\n",
    "initialize_oracle_part(4)\n",
    "qc.append(dist_single(), q[inputs:inputs+2] + q[temp_dist:temp_dist+5])\n",
    "multiple_adder([11, 12, 13, 14], [16, 17, 18, 19], init_ancillae, 20)\n",
    "qc.append(dist_single().inverse(), q[inputs:inputs+2] + q[temp_dist:temp_dist+5])\n",
    "qc.append(dist(), q[inputs:inputs+4] + q[temp_dist:temp_dist+5] + q[gate_ancillae:gate_ancillae+2])\n",
    "multiple_adder([11, 12, 13, 14], [16, 17, 18, 19], init_ancillae, 20)\n",
    "qc.append(dist().inverse(), q[inputs:inputs+4] + q[temp_dist:temp_dist+5] + q[gate_ancillae:gate_ancillae+2])\n",
    "qc.append(dist(), q[inputs+2:inputs+6] + q[temp_dist:temp_dist+5] + q[gate_ancillae:gate_ancillae+2])\n",
    "multiple_adder([11, 12, 13, 14], [16, 17, 18, 19], init_ancillae, 20)\n",
    "qc.append(dist().inverse(), q[inputs+2:inputs+6] + q[temp_dist:temp_dist+5] + q[gate_ancillae:gate_ancillae+2])\n",
    "qc.x(q[check_dist:check_dist+3]) # init 15\n",
    "multiple_adder([11, 12, 13, 14, 15], [16, 17, 18, 19, 20], init_ancillae, carry_check)\n",
    "\n",
    "# carry_check\n",
    "# qc.barrier()\n",
    "qc.cz(q[valid], q[carry_check])\n",
    "# qc.barrier()\n",
    "\n",
    "# inverse oracle\n",
    "multiple_adder([11, 12, 13, 14, 15], [16, 17, 18, 19, 20], init_ancillae, carry_check)\n",
    "qc.x(q[check_dist:check_dist+3]) # init 15\n",
    "qc.append(dist().inverse(), q[inputs+2:inputs+6] + q[temp_dist:temp_dist+5] + q[gate_ancillae:gate_ancillae+2])\n",
    "multiple_adder([11, 12, 13, 14], [16, 17, 18, 19], init_ancillae, 20)\n",
    "qc.append(dist(), q[inputs+2:inputs+6] + q[temp_dist:temp_dist+5] + q[gate_ancillae:gate_ancillae+2])\n",
    "qc.append(dist().inverse(), q[inputs:inputs+4] + q[temp_dist:temp_dist+5] + q[gate_ancillae:gate_ancillae+2])\n",
    "multiple_adder([11, 12, 13, 14], [16, 17, 18, 19], init_ancillae, 20)\n",
    "qc.append(dist(), q[inputs:inputs+4] + q[temp_dist:temp_dist+5] + q[gate_ancillae:gate_ancillae+2])\n",
    "qc.append(dist_single().inverse(), q[inputs:inputs+2] + q[temp_dist:temp_dist+5])\n",
    "multiple_adder([11, 12, 13, 14], [16, 17, 18, 19], init_ancillae, 20)\n",
    "qc.append(dist_single(), q[inputs:inputs+2] + q[temp_dist:temp_dist+5])\n",
    "initialize_oracle_part(4)\n",
    "\n",
    "diffusion()\n",
    "\n",
    "qc.measure(q[:6], c)\n",
    "# qc.draw()"
   ]
  },
  {
   "cell_type": "code",
   "execution_count": 12,
   "metadata": {
    "scrolled": true
   },
   "outputs": [
    {
     "name": "stdout",
     "output_type": "stream",
     "text": [
      "OrderedDict([('u3', 3252), ('cx', 1933), ('measure', 6), ('barrier', 2)])\n"
     ]
    }
   ],
   "source": [
    "from qiskit.transpiler import PassManager\n",
    "from qiskit.transpiler.passes import Unroller\n",
    "\n",
    "pass_ = Unroller(['u3', 'cx'])\n",
    "pm = PassManager(pass_)\n",
    "new_circuit = pm.run(qc)\n",
    "print(new_circuit.count_ops())"
   ]
  },
  {
   "cell_type": "code",
   "execution_count": 13,
   "metadata": {},
   "outputs": [],
   "source": [
    "backend = Aer.get_backend('qasm_simulator')\n",
    "job = execute(qc, backend, shots=1024)\n",
    "counts = job.result().get_counts()"
   ]
  },
  {
   "cell_type": "code",
   "execution_count": 14,
   "metadata": {
    "scrolled": false
   },
   "outputs": [
    {
     "name": "stdout",
     "output_type": "stream",
     "text": [
      "[('011000', 54), ('100001', 38), ('001001', 35), ('111101', 33), ('001011', 31), ('010010', 29), ('000110', 28), ('111001', 27), ('000100', 27), ('100110', 25), ('101001', 24), ('001101', 23), ('101101', 23), ('000001', 22), ('011111', 21), ('011101', 21), ('100111', 20), ('001010', 20), ('100010', 20), ('000101', 20)]\n"
     ]
    }
   ],
   "source": [
    "print(sorted(counts.items(), key=lambda x:x[1], reverse=True)[0:20])"
   ]
  },
  {
   "cell_type": "code",
   "execution_count": 15,
   "metadata": {},
   "outputs": [
    {
     "data": {
      "image/png": "[encoded data removed]",
      "text/plain": [
       "<Figure size 504x360 with 1 Axes>"
      ]
     },
     "execution_count": 15,
     "metadata": {},
     "output_type": "execute_result"
    }
   ],
   "source": [
    "plot_histogram(counts)"
   ]
  },
  {
   "cell_type": "code",
   "execution_count": null,
   "metadata": {},
   "outputs": [],
   "source": []
  }
 ],
 "metadata": {
  "kernelspec": {
   "display_name": "Python 3",
   "language": "python",
   "name": "python3"
  },
  "language_info": {
   "codemirror_mode": {
    "name": "ipython",
    "version": 3
   },
   "file_extension": ".py",
   "mimetype": "text/x-python",
   "name": "python",
   "nbconvert_exporter": "python",
   "pygments_lexer": "ipython3",
   "version": "3.7.5"
  }
 },
 "nbformat": 4,
 "nbformat_minor": 2
}
